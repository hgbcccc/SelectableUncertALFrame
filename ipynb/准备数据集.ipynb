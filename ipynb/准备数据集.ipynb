{
 "cells": [
  {
   "cell_type": "markdown",
   "metadata": {},
   "source": [
    "### 准备数据集"
   ]
  },
  {
   "cell_type": "code",
   "execution_count": null,
   "metadata": {},
   "outputs": [],
   "source": [
    "!python tools/prepare_active_dataset.py \\\n",
    "    data/ForestDamages \\\n",
    "    data/ForestDamages/active_learning_box \\\n",
    "    --train-ratio 0.04 \\\n",
    "    --val-ratio 0.01 \\\n",
    "    --seed 42"
   ]
  },
  {
   "cell_type": "code",
   "execution_count": null,
   "metadata": {},
   "outputs": [],
   "source": [
    "!python tools/prepare_active_dataset.py \\\n",
    "    data/ForestDamages \\\n",
    "    data/ForestDamages/active_learning_ssc \\\n",
    "    --train-ratio 0.04 \\\n",
    "    --val-ratio 0.01 \\\n",
    "    --seed 42"
   ]
  },
  {
   "cell_type": "code",
   "execution_count": null,
   "metadata": {},
   "outputs": [],
   "source": [
    "!python tools/prepare_active_dataset.py \\\n",
    "    data/ForestDamages \\\n",
    "    data/ForestDamages/active_learning_sor \\\n",
    "    --train-ratio 0.04 \\\n",
    "    --val-ratio 0.01 \\\n",
    "    --seed 42"
   ]
  }
 ],
 "metadata": {
  "language_info": {
   "name": "python"
  }
 },
 "nbformat": 4,
 "nbformat_minor": 2
}
