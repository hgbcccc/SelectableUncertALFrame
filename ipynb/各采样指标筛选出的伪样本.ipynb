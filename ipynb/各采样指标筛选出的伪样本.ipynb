{
 "cells": [
  {
   "cell_type": "markdown",
   "metadata": {},
   "source": [
    "### 5%的标记数据"
   ]
  },
  {
   "cell_type": "code",
   "execution_count": 4,
   "metadata": {},
   "outputs": [
    {
     "name": "stdout",
     "output_type": "stream",
     "text": [
      "合并数据集...\n",
      "数据根目录: E:\\SUAL\\data\\Eucalyptus_canopy\n",
      "训练集标注文件: E:\\SUAL\\data\\Eucalyptus_canopy\\annotations\\instances_train2017.json\n",
      "验证集标注文件: E:\\SUAL\\data\\Eucalyptus_canopy\\annotations\\instances_val2017.json\n",
      "训练集图片目录: E:\\SUAL\\data\\Eucalyptus_canopy\\train2017\n",
      "验证集图片目录: E:\\SUAL\\data\\Eucalyptus_canopy\\val2017\n",
      "合并后总图像数: 912\n",
      "合并后总标注数: 91270\n",
      "\n",
      "数据集分割:\n",
      "总样本数: 912\n",
      "训练集大小: 36 (4.0%)\n",
      "验证集大小: 9 (1.0%)\n",
      "未标注集大小: 867 (95.0%)\n",
      "\n",
      "处理 labeled_train 数据集...\n",
      "从以下目录复制图片:\n",
      "  - E:\\SUAL\\data\\Eucalyptus_canopy\\train2017\n",
      "  - E:\\SUAL\\data\\Eucalyptus_canopy\\val2017\n",
      "成功复制 36 张图片到 data\\Eucalyptus_canopy_5%\\active_learning\\images_labeled_train\n",
      "保存标注到: data\\Eucalyptus_canopy_5%\\active_learning\\annotations\\instances_labeled_train.json\n",
      "图像数量: 36\n",
      "标注数量: 3835\n",
      "\n",
      "处理 labeled_val 数据集...\n",
      "从以下目录复制图片:\n",
      "  - E:\\SUAL\\data\\Eucalyptus_canopy\\train2017\n",
      "  - E:\\SUAL\\data\\Eucalyptus_canopy\\val2017\n",
      "成功复制 9 张图片到 data\\Eucalyptus_canopy_5%\\active_learning\\images_labeled_val\n",
      "保存标注到: data\\Eucalyptus_canopy_5%\\active_learning\\annotations\\instances_labeled_val.json\n",
      "图像数量: 9\n",
      "标注数量: 758\n",
      "\n",
      "处理 unlabeled 数据集...\n",
      "从以下目录复制图片:\n",
      "  - E:\\SUAL\\data\\Eucalyptus_canopy\\train2017\n",
      "  - E:\\SUAL\\data\\Eucalyptus_canopy\\val2017\n",
      "成功复制 867 张图片到 data\\Eucalyptus_canopy_5%\\active_learning\\images_unlabeled\n",
      "保存标注到: data\\Eucalyptus_canopy_5%\\active_learning\\annotations\\instances_unlabeled.json\n",
      "图像数量: 867\n",
      "标注数量: 86677\n",
      "\n",
      "数据集准备完成!\n",
      "\n",
      "目录结构:\n",
      "data/Eucalyptus_canopy_5%/active_learning/\n",
      "├── images_labeled_train/\n",
      "├── images_labeled_val/\n",
      "├── images_unlabeled/\n",
      "└── annotations/\n",
      "    ├── instances_labeled_train.json\n",
      "    ├── instances_labeled_val.json\n",
      "    └── instances_unlabeled.json\n"
     ]
    }
   ],
   "source": [
    "!python tools/prepare_active_dataset.py \\\n",
    "    data/Eucalyptus_canopy \\\n",
    "    data/Eucalyptus_canopy_5%/active_learning \\\n",
    "    --train-ratio 0.04 \\\n",
    "    --val-ratio 0.01 \\\n",
    "    --seed 42"
   ]
  },
  {
   "cell_type": "markdown",
   "metadata": {},
   "source": [
    "### 主动学习训练"
   ]
  },
  {
   "cell_type": "code",
   "execution_count": 1,
   "metadata": {},
   "outputs": [],
   "source": [
    "# bash\n",
    " # python tools/al_train.py al_deformable.py --work-dir Pseudo_samples/5%\n"
   ]
  },
  {
   "cell_type": "markdown",
   "metadata": {},
   "source": [
    "### 30%的标记数据\n"
   ]
  },
  {
   "cell_type": "code",
   "execution_count": 2,
   "metadata": {},
   "outputs": [
    {
     "name": "stdout",
     "output_type": "stream",
     "text": [
      "合并数据集...\n",
      "数据根目录: E:\\SUAL\\data\\Eucalyptus_canopy\n",
      "训练集标注文件: E:\\SUAL\\data\\Eucalyptus_canopy\\annotations\\instances_train2017.json\n",
      "验证集标注文件: E:\\SUAL\\data\\Eucalyptus_canopy\\annotations\\instances_val2017.json\n",
      "训练集图片目录: E:\\SUAL\\data\\Eucalyptus_canopy\\train2017\n",
      "验证集图片目录: E:\\SUAL\\data\\Eucalyptus_canopy\\val2017\n",
      "合并后总图像数: 912\n",
      "合并后总标注数: 91270\n",
      "\n",
      "数据集分割:\n",
      "总样本数: 912\n",
      "训练集大小: 218 (24.0%)\n",
      "验证集大小: 54 (6.0%)\n",
      "未标注集大小: 640 (70.0%)\n",
      "\n",
      "处理 labeled_train 数据集...\n",
      "从以下目录复制图片:\n",
      "  - E:\\SUAL\\data\\Eucalyptus_canopy\\train2017\n",
      "  - E:\\SUAL\\data\\Eucalyptus_canopy\\val2017\n",
      "成功复制 218 张图片到 data\\Eucalyptus_canopy_30%\\active_learning\\images_labeled_train\n",
      "保存标注到: data\\Eucalyptus_canopy_30%\\active_learning\\annotations\\instances_labeled_train.json\n",
      "图像数量: 218\n",
      "标注数量: 21702\n",
      "\n",
      "处理 labeled_val 数据集...\n",
      "从以下目录复制图片:\n",
      "  - E:\\SUAL\\data\\Eucalyptus_canopy\\train2017\n",
      "  - E:\\SUAL\\data\\Eucalyptus_canopy\\val2017\n",
      "成功复制 54 张图片到 data\\Eucalyptus_canopy_30%\\active_learning\\images_labeled_val\n",
      "保存标注到: data\\Eucalyptus_canopy_30%\\active_learning\\annotations\\instances_labeled_val.json\n",
      "图像数量: 54\n",
      "标注数量: 4461\n",
      "\n",
      "处理 unlabeled 数据集...\n",
      "从以下目录复制图片:\n",
      "  - E:\\SUAL\\data\\Eucalyptus_canopy\\train2017\n",
      "  - E:\\SUAL\\data\\Eucalyptus_canopy\\val2017\n",
      "成功复制 640 张图片到 data\\Eucalyptus_canopy_30%\\active_learning\\images_unlabeled\n",
      "保存标注到: data\\Eucalyptus_canopy_30%\\active_learning\\annotations\\instances_unlabeled.json\n",
      "图像数量: 640\n",
      "标注数量: 65107\n",
      "\n",
      "数据集准备完成!\n",
      "\n",
      "目录结构:\n",
      "data/Eucalyptus_canopy_30%/active_learning/\n",
      "├── images_labeled_train/\n",
      "├── images_labeled_val/\n",
      "├── images_unlabeled/\n",
      "└── annotations/\n",
      "    ├── instances_labeled_train.json\n",
      "    ├── instances_labeled_val.json\n",
      "    └── instances_unlabeled.json\n"
     ]
    }
   ],
   "source": [
    "!python tools/prepare_active_dataset.py \\\n",
    "    data/Eucalyptus_canopy \\\n",
    "    data/Eucalyptus_canopy_30%/active_learning \\\n",
    "    --train-ratio 0.24 \\\n",
    "    --val-ratio 0.06 \\\n",
    "    --seed 42"
   ]
  },
  {
   "cell_type": "code",
   "execution_count": null,
   "metadata": {},
   "outputs": [],
   "source": []
  }
 ],
 "metadata": {
  "kernelspec": {
   "display_name": "sual",
   "language": "python",
   "name": "python3"
  },
  "language_info": {
   "codemirror_mode": {
    "name": "ipython",
    "version": 3
   },
   "file_extension": ".py",
   "mimetype": "text/x-python",
   "name": "python",
   "nbconvert_exporter": "python",
   "pygments_lexer": "ipython3",
   "version": "3.9.20"
  }
 },
 "nbformat": 4,
 "nbformat_minor": 2
}
