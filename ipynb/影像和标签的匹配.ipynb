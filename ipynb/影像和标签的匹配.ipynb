{
 "cells": [
  {
   "cell_type": "code",
   "execution_count": 7,
   "metadata": {},
   "outputs": [
    {
     "name": "stdout",
     "output_type": "stream",
     "text": [
      "标注文件: E:/SUAL/SUAL/data/bamberg_coco1024/active_learning/annotations/instances_labeled_val_fixed.json\n",
      "图像目录: E:/SUAL/SUAL/data/bamberg_coco1024/active_learning/images_labeled_val\n",
      "标注文件中的图像数量: 13\n",
      "实际图像文件数量: 13\n",
      "\n",
      "缺失的文件:\n",
      "\n",
      "未标注的文件:\n"
     ]
    }
   ],
   "source": [
    "# tools/check_dataset.py\n",
    "import json\n",
    "import os\n",
    "from pathlib import Path\n",
    "\n",
    "def check_dataset_annotations(json_path, image_dir):\n",
    "    \"\"\"检查数据集标注和图像是否匹配\"\"\"\n",
    "    # 读取标注文件\n",
    "    with open(json_path, 'r') as f:\n",
    "        anno_data = json.load(f)\n",
    "    \n",
    "    # 获取所有实际图像文件\n",
    "    image_files = set(os.listdir(image_dir))\n",
    "    \n",
    "    # 检查标注文件中的图像是否存在\n",
    "    missing_files = []\n",
    "    for image_info in anno_data['images']:\n",
    "        filename = image_info['file_name']\n",
    "        if filename not in image_files:\n",
    "            missing_files.append(filename)\n",
    "    \n",
    "    # 检查实际图像是否都有标注\n",
    "    annotated_files = set(img['file_name'] for img in anno_data['images'])\n",
    "    unlabeled_files = [f for f in image_files if f not in annotated_files]\n",
    "    \n",
    "    print(f\"标注文件: {json_path}\")\n",
    "    print(f\"图像目录: {image_dir}\")\n",
    "    print(f\"标注文件中的图像数量: {len(anno_data['images'])}\")\n",
    "    print(f\"实际图像文件数量: {len(image_files)}\")\n",
    "    print(f\"\\n缺失的文件:\")\n",
    "    for f in missing_files:\n",
    "        print(f\"  - {f}\")\n",
    "    print(f\"\\n未标注的文件:\")\n",
    "    for f in unlabeled_files:\n",
    "        print(f\"  - {f}\")\n",
    "    \n",
    "    return missing_files, unlabeled_files\n",
    "\n",
    "# 使用示例\n",
    "json_path = \"E:/SUAL/SUAL/data/bamberg_coco1024/active_learning/annotations/instances_labeled_val_fixed.json\"\n",
    "image_dir = \"E:/SUAL/SUAL/data/bamberg_coco1024/active_learning/images_labeled_val\"\n",
    "missing_files, unlabeled_files = check_dataset_annotations(json_path, image_dir)"
   ]
  },
  {
   "cell_type": "code",
   "execution_count": 6,
   "metadata": {},
   "outputs": [
    {
     "name": "stdout",
     "output_type": "stream",
     "text": [
      "修复后的标注文件已保存到: E:/SUAL/SUAL/data/bamberg_coco1024/active_learning/annotations/instances_labeled_val_fixed.json\n",
      "有效图像数量: 13\n",
      "有效标注数量: 167\n"
     ]
    }
   ],
   "source": [
    "def fix_annotation_file(json_path, image_dir, output_path=None):\n",
    "    \"\"\"修复标注文件，只保留实际存在的图像的标注\"\"\"\n",
    "    # 读取标注文件\n",
    "    with open(json_path, 'r') as f:\n",
    "        anno_data = json.load(f)\n",
    "    \n",
    "    # 获取实际存在的图像文件\n",
    "    existing_files = set(os.listdir(image_dir))\n",
    "    \n",
    "    # 过滤图像信息\n",
    "    valid_images = []\n",
    "    valid_image_ids = set()\n",
    "    for img in anno_data['images']:\n",
    "        if img['file_name'] in existing_files:\n",
    "            valid_images.append(img)\n",
    "            valid_image_ids.add(img['id'])\n",
    "    \n",
    "    # 过滤标注信息\n",
    "    valid_annotations = [\n",
    "        anno for anno in anno_data['annotations']\n",
    "        if anno['image_id'] in valid_image_ids\n",
    "    ]\n",
    "    \n",
    "    # 更新数据\n",
    "    anno_data['images'] = valid_images\n",
    "    anno_data['annotations'] = valid_annotations\n",
    "    \n",
    "    # 保存修复后的标注文件\n",
    "    if output_path is None:\n",
    "        output_path = json_path.replace('.json', '_fixed.json')\n",
    "    \n",
    "    with open(output_path, 'w') as f:\n",
    "        json.dump(anno_data, f)\n",
    "    \n",
    "    print(f\"修复后的标注文件已保存到: {output_path}\")\n",
    "    print(f\"有效图像数量: {len(valid_images)}\")\n",
    "    print(f\"有效标注数量: {len(valid_annotations)}\")\n",
    "\n",
    "# 使用示例\n",
    "fix_annotation_file(json_path, image_dir)"
   ]
  }
 ],
 "metadata": {
  "kernelspec": {
   "display_name": "sual",
   "language": "python",
   "name": "python3"
  },
  "language_info": {
   "codemirror_mode": {
    "name": "ipython",
    "version": 3
   },
   "file_extension": ".py",
   "mimetype": "text/x-python",
   "name": "python",
   "nbconvert_exporter": "python",
   "pygments_lexer": "ipython3",
   "version": "3.9.20"
  }
 },
 "nbformat": 4,
 "nbformat_minor": 2
}
