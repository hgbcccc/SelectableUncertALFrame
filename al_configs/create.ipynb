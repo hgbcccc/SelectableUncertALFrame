{
 "cells": [
  {
   "cell_type": "code",
   "execution_count": 11,
   "id": "f0a570a1",
   "metadata": {},
   "outputs": [
    {
     "name": "stdout",
     "output_type": "stream",
     "text": [
      "Created file: retinanet_F_swim-t_random_16_200.py\n",
      "Created file: retinanet_F_swim-t_entropy_16_200.py\n",
      "Created file: retinanet_F_swim-t_least confidence_16_200.py\n",
      "Created file: retinanet_F_swim-t_margin_16_200.py\n",
      "Created file: retinanet_F_swim-t_mus-cdb_16_200.py\n",
      "Created file: retinanet_F_swim-t_sor_16_200.py\n",
      "Created file: retinanet_F_swim-t_ssc_16_200.py\n"
     ]
    }
   ],
   "source": [
    "import os\n",
    "\n",
    "names = [\n",
    "    \"random\",\n",
    "    \"entropy\",\n",
    "    \"least confidence\",\n",
    "    \"margin\",\n",
    "    \"mus-cdb\",\n",
    "    \"sor\",\n",
    "    \"ssc\"\n",
    "]\n",
    "\n",
    "prefix = \"retinanet_F_swim-t_\"\n",
    "suffix = \"_16_200.py\"\n",
    "\n",
    "for name in names:\n",
    "    file_name = prefix + name + suffix\n",
    "    with open(file_name, 'w') as f:\n",
    "        pass\n",
    "    print(f\"Created file: {file_name}\")"
   ]
  },
  {
   "cell_type": "code",
   "execution_count": 7,
   "id": "86c3a011",
   "metadata": {},
   "outputs": [],
   "source": [
    "os.chdir('/data/22_huangguobin/mmdetection-3.1.0/al_configs/retinanet')"
   ]
  },
  {
   "cell_type": "code",
   "execution_count": 9,
   "id": "04242e90",
   "metadata": {},
   "outputs": [
    {
     "data": {
      "text/plain": [
       "'/data/22_huangguobin/mmdetection-3.1.0/al_configs/retinanet'"
      ]
     },
     "execution_count": 9,
     "metadata": {},
     "output_type": "execute_result"
    }
   ],
   "source": [
    "os.getcwd()"
   ]
  },
  {
   "cell_type": "code",
   "execution_count": 8,
   "id": "b279cea9",
   "metadata": {},
   "outputs": [],
   "source": [
    "!ls"
   ]
  },
  {
   "cell_type": "code",
   "execution_count": null,
   "id": "0f73af27",
   "metadata": {},
   "outputs": [],
   "source": []
  }
 ],
 "metadata": {
  "kernelspec": {
   "display_name": "sual",
   "language": "python",
   "name": "python3"
  },
  "language_info": {
   "codemirror_mode": {
    "name": "ipython",
    "version": 3
   },
   "file_extension": ".py",
   "mimetype": "text/x-python",
   "name": "python",
   "nbconvert_exporter": "python",
   "pygments_lexer": "ipython3",
   "version": "3.9.20"
  }
 },
 "nbformat": 4,
 "nbformat_minor": 5
}
