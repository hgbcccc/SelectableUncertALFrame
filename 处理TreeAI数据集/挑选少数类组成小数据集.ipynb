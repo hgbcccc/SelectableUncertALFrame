{
 "cells": [
  {
   "cell_type": "markdown",
   "id": "5d8ea26e",
   "metadata": {},
   "source": [
    "### 挑选个别类别组成小数据集"
   ]
  },
  {
   "cell_type": "markdown",
   "id": "ca8ed5c0",
   "metadata": {},
   "source": [
    "Species_ID,Labels,Species_Class\n",
    "1,11397,betula papyrifera\n",
    "2,11370,tsuga canadensis\n",
    "4,5774,picea abies\n",
    "3,5489,acer saccharum\n",
    "5,2663,betula\n",
    "6,2068,picea rubens\n",
    "7,1947,betula alleghaniensis"
   ]
  },
  {
   "cell_type": "markdown",
   "id": "5daa66b3",
   "metadata": {},
   "source": []
  }
 ],
 "metadata": {
  "language_info": {
   "name": "python"
  }
 },
 "nbformat": 4,
 "nbformat_minor": 5
}
